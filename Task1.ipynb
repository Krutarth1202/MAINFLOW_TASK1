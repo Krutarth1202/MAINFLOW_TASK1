{
 "cells": [
  {
   "cell_type": "code",
   "execution_count": 5,
   "id": "ec2e807e-1485-44b7-8549-fb3c89d16743",
   "metadata": {},
   "outputs": [
    {
     "name": "stdout",
     "output_type": "stream",
     "text": [
      "Last element of the list: 12\n",
      "Updated list: [2, 14, 6, 8, 10, 12]\n"
     ]
    }
   ],
   "source": [
    "my_list = [1,2,4,6,8,10,13]\n",
    "\n",
    "#Adding an element to the list\n",
    "my_list.append(12)\n",
    "\n",
    "#Removing an element from the list\n",
    "my_list.remove(1)\n",
    "my_list.remove(13)\n",
    "\n",
    "#modifying elements in list\n",
    "my_list[1] = 14\n",
    "\n",
    "print(\"Last element of the list:\",my_list[-1])\n",
    "print(\"Updated list:\",my_list)"
   ]
  },
  {
   "cell_type": "code",
   "execution_count": 10,
   "id": "397c325e-d4da-4d6d-bae9-87b9d93a19a5",
   "metadata": {},
   "outputs": [
    {
     "name": "stdout",
     "output_type": "stream",
     "text": [
      "Updated Dictionary: {'ID': 1, 'Name': 'John', 'Age': 29, 'Position': 'Project Manager', 'City': 'New York'}\n",
      "['ID', 'Name', 'Age', 'Position', 'City']\n",
      "[1, 'John', 29, 'Project Manager', 'New York']\n"
     ]
    }
   ],
   "source": [
    "my_dict = {'ID':1, 'Name':'John', 'Age':26, 'Position':'Project Manager', 'Height(in cm)':186}\n",
    "\n",
    "#Adding element to the dictionary\n",
    "my_dict['City'] = 'New York'\n",
    "\n",
    "#Removing element from the dictionary\n",
    "del my_dict['Height(in cm)']\n",
    "\n",
    "#modifying elements in the dictionary\n",
    "my_dict['Age'] = 29\n",
    "\n",
    "print(\"Updated Dictionary:\",my_dict)\n",
    "\n",
    "#Extract keys from dictionary\n",
    "my_list = [i for i in my_dict]\n",
    "print(my_list)\n",
    "\n",
    "#Extract values from Dictionary\n",
    "my_list2 = [i for i in my_dict.values()]\n",
    "print(my_list2)"
   ]
  },
  {
   "cell_type": "code",
   "execution_count": 11,
   "id": "7a13350c-867d-40ec-ab61-990914276f66",
   "metadata": {},
   "outputs": [
    {
     "name": "stdout",
     "output_type": "stream",
     "text": [
      "{1, 2, 3, 4, 5, 6, 7, 8, 9, 10}\n",
      "True\n",
      "False\n"
     ]
    }
   ],
   "source": [
    "my_set = {1,2,3,4,5,6,7,8,11,12}\n",
    "\n",
    "#Adding element to the set\n",
    "my_set.add(9)\n",
    "\n",
    "#Removing element from the set\n",
    "my_set.remove(11)\n",
    "\n",
    "#Modifying set\n",
    "my_set.discard(12)\n",
    "my_set.add(10)\n",
    "\n",
    "print(my_set)\n",
    "\n",
    "#checking presence of element\n",
    "print(2 in my_set)\n",
    "print(15 in my_set)"
   ]
  },
  {
   "cell_type": "code",
   "execution_count": null,
   "id": "595347ce-31be-4cfa-8715-e80011498b98",
   "metadata": {},
   "outputs": [],
   "source": []
  }
 ],
 "metadata": {
  "kernelspec": {
   "display_name": "Python 3 (ipykernel)",
   "language": "python",
   "name": "python3"
  },
  "language_info": {
   "codemirror_mode": {
    "name": "ipython",
    "version": 3
   },
   "file_extension": ".py",
   "mimetype": "text/x-python",
   "name": "python",
   "nbconvert_exporter": "python",
   "pygments_lexer": "ipython3",
   "version": "3.11.7"
  }
 },
 "nbformat": 4,
 "nbformat_minor": 5
}
